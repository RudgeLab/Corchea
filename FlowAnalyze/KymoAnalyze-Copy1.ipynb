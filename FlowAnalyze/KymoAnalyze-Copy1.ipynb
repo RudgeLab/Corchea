{
 "cells": [
  {
   "cell_type": "code",
   "execution_count": 5,
   "metadata": {},
   "outputs": [],
   "source": [
    "from PIL import Image\n",
    "import numpy as np\n",
    "import matplotlib\n",
    "import matplotlib.pyplot as plt\n",
    "import seaborn as sns\n",
    "import pandas as pd\n",
    "import itertools\n",
    "#sns.set()"
   ]
  },
  {
   "cell_type": "code",
   "execution_count": 6,
   "metadata": {},
   "outputs": [
    {
     "name": "stderr",
     "output_type": "stream",
     "text": [
      "//anaconda3/lib/python3.7/site-packages/ipykernel_launcher.py:26: MatplotlibDeprecationWarning: Adding an axes using the same arguments as a previous axes currently reuses the earlier instance.  In a future version, a new instance will always be created and returned.  Meanwhile, this warning can be suppressed, and the future behavior ensured, by passing a unique label to each axes instance.\n"
     ]
    },
    {
     "data": {
      "image/png": "[encoded data removed]",
      "text/plain": [
       "<Figure size 432x288 with 1 Axes>"
      ]
     },
     "metadata": {
      "needs_background": "light"
     },
     "output_type": "display_data"
    },
    {
     "name": "stdout",
     "output_type": "stream",
     "text": [
      "mean velocity = 1.6128915313225056 std 8.309666536121485 mm/s\n"
     ]
    }
   ],
   "source": [
    "im = Image.open(\"fFase3ch1.tif\")\n",
    "l,w=im.size\n",
    "pix_val = list(im.getdata())\n",
    "#pix_array is the image turned into an array of pixels\n",
    "pix_array = 255-np.array(list(im.getdata())).reshape((w,l)) #np.reshape(pix_array) \n",
    "\n",
    "#see the array that you want to work and configure it\n",
    "#The goal is the first row must start with yellow and the last must end with blue\n",
    "work_array=pix_array[9:-6,3:-10]\n",
    "\n",
    "#count the 1s in the binary array in axis of choice\n",
    "ones=np.count_nonzero(work_array,1)\n",
    "#start the analysis\n",
    "py,px=work_array.shape\n",
    "size=45 #mm\n",
    "Dtime=120 #s\n",
    "pix_val= size/px\n",
    "x=ones*(size/px)\n",
    "velocity=np.empty(py)\n",
    "for z in range(py-1):\n",
    "    velocity[z]=(ones[z+1]-ones[z])*pix_val/Dtime\n",
    "mean_vel=np.mean(velocity)\n",
    "\n",
    "#Showing Data\n",
    "plt.imshow(work_array)\n",
    "plt.axes().set_aspect('auto')\n",
    "plt.xlabel('Pixel')\n",
    "plt.ylabel('Time')\n",
    "plt.suptitle('Show my working array')\n",
    "plt.show()\n",
    "print(\"mean velocity =\", mean_vel,\"std\",np.std(velocity) ,\"mm/s\")"
   ]
  },
  {
   "cell_type": "code",
   "execution_count": 7,
   "metadata": {},
   "outputs": [],
   "source": [
    "edge_list = [np.where(np.diff(work_array[i,:]))[0][0] for i in range(work_array.shape[0])]\n",
    "edge_array1 = np.array(edge_list)"
   ]
  },
  {
   "cell_type": "code",
   "execution_count": 8,
   "metadata": {},
   "outputs": [
    {
     "name": "stdout",
     "output_type": "stream",
     "text": [
      "(28,)\n"
     ]
    },
    {
     "data": {
      "image/png": "[encoded data removed]",
      "text/plain": [
       "<Figure size 432x288 with 1 Axes>"
      ]
     },
     "metadata": {
      "needs_background": "light"
     },
     "output_type": "display_data"
    }
   ],
   "source": [
    "plt.plot(edge_array1)\n",
    "last_pix = edge_array1.shape[0]\n",
    "print(edge_array1.shape)"
   ]
  },
  {
   "cell_type": "code",
   "execution_count": 9,
   "metadata": {},
   "outputs": [],
   "source": [
    "from scipy.stats import linregress\n",
    "slope, intercept, r_value, p_value, std_err = linregress(np.arange(last_pix), edge_array1)"
   ]
  },
  {
   "cell_type": "code",
   "execution_count": 10,
   "metadata": {},
   "outputs": [
    {
     "name": "stdout",
     "output_type": "stream",
     "text": [
      "pixels = 431 slope= 15.756704980842912 r2= 0.9984353758458961\n"
     ]
    }
   ],
   "source": [
    "r2 = r_value**2\n",
    "print('pixels =',px, 'slope=',slope,'r2=',r2)"
   ]
  },
  {
   "cell_type": "code",
   "execution_count": 11,
   "metadata": {},
   "outputs": [
    {
     "data": {
      "text/plain": [
       "0.9984353758458961"
      ]
     },
     "execution_count": 11,
     "metadata": {},
     "output_type": "execute_result"
    }
   ],
   "source": [
    "r2 = r_value**2\n",
    "r2"
   ]
  },
  {
   "cell_type": "code",
   "execution_count": 12,
   "metadata": {},
   "outputs": [
    {
     "name": "stdout",
     "output_type": "stream",
     "text": [
      "44.418553484278746\n"
     ]
    },
    {
     "data": {
      "text/plain": [
       "0.013709430087740353"
      ]
     },
     "execution_count": 12,
     "metadata": {},
     "output_type": "execute_result"
    }
   ],
   "source": [
    "vel = slope/Dtime*pix_val\n",
    "#should give ~45\n",
    "print(slope/Dtime*pix_val*3240)\n",
    "vel"
   ]
  },
  {
   "cell_type": "markdown",
   "metadata": {},
   "source": [
    "## Save data"
   ]
  },
  {
   "cell_type": "code",
   "execution_count": 13,
   "metadata": {},
   "outputs": [],
   "source": [
    "#converting to mm and s\n",
    "posmm = list(edge_array1*pix_val)\n",
    "ts = list(np.arange(last_pix)*Dtime)\n",
    "#create dataframe\n",
    "df1 = pd.DataFrame({\"pix\": posmm,\n",
    "                   \"time\": ts,\n",
    "                   \"channel\": list(itertools.repeat(1, last_pix))\n",
    "\n",
    "})"
   ]
  },
  {
   "cell_type": "code",
   "execution_count": 14,
   "metadata": {},
   "outputs": [
    {
     "name": "stdout",
     "output_type": "stream",
     "text": [
      "pixels = 431 slope= 0.013709430087740351 r2= 0.9984353758458966\n"
     ]
    }
   ],
   "source": [
    "slope, intercept, r_value, p_value, std_err = linregress(ts, posmm)\n",
    "r2 = r_value**2\n",
    "print('pixels =',px, 'slope=',slope,'r2=',r2)"
   ]
  },
  {
   "cell_type": "code",
   "execution_count": 52,
   "metadata": {},
   "outputs": [
    {
     "data": {
      "text/html": [
       "<div>\n",
       "<style scoped>\n",
       "    .dataframe tbody tr th:only-of-type {\n",
       "        vertical-align: middle;\n",
       "    }\n",
       "\n",
       "    .dataframe tbody tr th {\n",
       "        vertical-align: top;\n",
       "    }\n",
       "\n",
       "    .dataframe thead th {\n",
       "        text-align: right;\n",
       "    }\n",
       "</style>\n",
       "<table border=\"1\" class=\"dataframe\">\n",
       "  <thead>\n",
       "    <tr style=\"text-align: right;\">\n",
       "      <th></th>\n",
       "      <th>pix</th>\n",
       "      <th>time</th>\n",
       "      <th>channel</th>\n",
       "    </tr>\n",
       "  </thead>\n",
       "  <tbody>\n",
       "    <tr>\n",
       "      <th>0</th>\n",
       "      <td>0.313225</td>\n",
       "      <td>0</td>\n",
       "      <td>1</td>\n",
       "    </tr>\n",
       "    <tr>\n",
       "      <th>1</th>\n",
       "      <td>1.148492</td>\n",
       "      <td>120</td>\n",
       "      <td>1</td>\n",
       "    </tr>\n",
       "    <tr>\n",
       "      <th>2</th>\n",
       "      <td>2.819026</td>\n",
       "      <td>240</td>\n",
       "      <td>1</td>\n",
       "    </tr>\n",
       "    <tr>\n",
       "      <th>3</th>\n",
       "      <td>4.385151</td>\n",
       "      <td>360</td>\n",
       "      <td>1</td>\n",
       "    </tr>\n",
       "    <tr>\n",
       "      <th>4</th>\n",
       "      <td>5.951276</td>\n",
       "      <td>480</td>\n",
       "      <td>1</td>\n",
       "    </tr>\n",
       "    <tr>\n",
       "      <th>5</th>\n",
       "      <td>8.248260</td>\n",
       "      <td>600</td>\n",
       "      <td>1</td>\n",
       "    </tr>\n",
       "    <tr>\n",
       "      <th>6</th>\n",
       "      <td>10.023202</td>\n",
       "      <td>720</td>\n",
       "      <td>1</td>\n",
       "    </tr>\n",
       "    <tr>\n",
       "      <th>7</th>\n",
       "      <td>12.111369</td>\n",
       "      <td>840</td>\n",
       "      <td>1</td>\n",
       "    </tr>\n",
       "    <tr>\n",
       "      <th>8</th>\n",
       "      <td>13.990719</td>\n",
       "      <td>960</td>\n",
       "      <td>1</td>\n",
       "    </tr>\n",
       "    <tr>\n",
       "      <th>9</th>\n",
       "      <td>16.078886</td>\n",
       "      <td>1080</td>\n",
       "      <td>1</td>\n",
       "    </tr>\n",
       "    <tr>\n",
       "      <th>10</th>\n",
       "      <td>17.436195</td>\n",
       "      <td>1200</td>\n",
       "      <td>1</td>\n",
       "    </tr>\n",
       "    <tr>\n",
       "      <th>11</th>\n",
       "      <td>18.689095</td>\n",
       "      <td>1320</td>\n",
       "      <td>1</td>\n",
       "    </tr>\n",
       "    <tr>\n",
       "      <th>12</th>\n",
       "      <td>20.150812</td>\n",
       "      <td>1440</td>\n",
       "      <td>1</td>\n",
       "    </tr>\n",
       "    <tr>\n",
       "      <th>13</th>\n",
       "      <td>21.716937</td>\n",
       "      <td>1560</td>\n",
       "      <td>1</td>\n",
       "    </tr>\n",
       "    <tr>\n",
       "      <th>14</th>\n",
       "      <td>23.178654</td>\n",
       "      <td>1680</td>\n",
       "      <td>1</td>\n",
       "    </tr>\n",
       "    <tr>\n",
       "      <th>15</th>\n",
       "      <td>24.744780</td>\n",
       "      <td>1800</td>\n",
       "      <td>1</td>\n",
       "    </tr>\n",
       "    <tr>\n",
       "      <th>16</th>\n",
       "      <td>25.997680</td>\n",
       "      <td>1920</td>\n",
       "      <td>1</td>\n",
       "    </tr>\n",
       "    <tr>\n",
       "      <th>17</th>\n",
       "      <td>27.563805</td>\n",
       "      <td>2040</td>\n",
       "      <td>1</td>\n",
       "    </tr>\n",
       "    <tr>\n",
       "      <th>18</th>\n",
       "      <td>29.338747</td>\n",
       "      <td>2160</td>\n",
       "      <td>1</td>\n",
       "    </tr>\n",
       "    <tr>\n",
       "      <th>19</th>\n",
       "      <td>30.904872</td>\n",
       "      <td>2280</td>\n",
       "      <td>1</td>\n",
       "    </tr>\n",
       "    <tr>\n",
       "      <th>20</th>\n",
       "      <td>32.366589</td>\n",
       "      <td>2400</td>\n",
       "      <td>1</td>\n",
       "    </tr>\n",
       "    <tr>\n",
       "      <th>21</th>\n",
       "      <td>33.932715</td>\n",
       "      <td>2520</td>\n",
       "      <td>1</td>\n",
       "    </tr>\n",
       "    <tr>\n",
       "      <th>22</th>\n",
       "      <td>35.603248</td>\n",
       "      <td>2640</td>\n",
       "      <td>1</td>\n",
       "    </tr>\n",
       "    <tr>\n",
       "      <th>23</th>\n",
       "      <td>37.900232</td>\n",
       "      <td>2760</td>\n",
       "      <td>1</td>\n",
       "    </tr>\n",
       "    <tr>\n",
       "      <th>24</th>\n",
       "      <td>39.675174</td>\n",
       "      <td>2880</td>\n",
       "      <td>1</td>\n",
       "    </tr>\n",
       "    <tr>\n",
       "      <th>25</th>\n",
       "      <td>41.867749</td>\n",
       "      <td>3000</td>\n",
       "      <td>1</td>\n",
       "    </tr>\n",
       "    <tr>\n",
       "      <th>26</th>\n",
       "      <td>43.225058</td>\n",
       "      <td>3120</td>\n",
       "      <td>1</td>\n",
       "    </tr>\n",
       "    <tr>\n",
       "      <th>27</th>\n",
       "      <td>44.686775</td>\n",
       "      <td>3240</td>\n",
       "      <td>1</td>\n",
       "    </tr>\n",
       "  </tbody>\n",
       "</table>\n",
       "</div>"
      ],
      "text/plain": [
       "          pix  time  channel\n",
       "0    0.313225     0        1\n",
       "1    1.148492   120        1\n",
       "2    2.819026   240        1\n",
       "3    4.385151   360        1\n",
       "4    5.951276   480        1\n",
       "5    8.248260   600        1\n",
       "6   10.023202   720        1\n",
       "7   12.111369   840        1\n",
       "8   13.990719   960        1\n",
       "9   16.078886  1080        1\n",
       "10  17.436195  1200        1\n",
       "11  18.689095  1320        1\n",
       "12  20.150812  1440        1\n",
       "13  21.716937  1560        1\n",
       "14  23.178654  1680        1\n",
       "15  24.744780  1800        1\n",
       "16  25.997680  1920        1\n",
       "17  27.563805  2040        1\n",
       "18  29.338747  2160        1\n",
       "19  30.904872  2280        1\n",
       "20  32.366589  2400        1\n",
       "21  33.932715  2520        1\n",
       "22  35.603248  2640        1\n",
       "23  37.900232  2760        1\n",
       "24  39.675174  2880        1\n",
       "25  41.867749  3000        1\n",
       "26  43.225058  3120        1\n",
       "27  44.686775  3240        1"
      ]
     },
     "execution_count": 52,
     "metadata": {},
     "output_type": "execute_result"
    }
   ],
   "source": [
    "df1"
   ]
  },
  {
   "cell_type": "code",
   "execution_count": 53,
   "metadata": {},
   "outputs": [
    {
     "name": "stderr",
     "output_type": "stream",
     "text": [
      "//anaconda3/lib/python3.7/site-packages/ipykernel_launcher.py:30: MatplotlibDeprecationWarning: Adding an axes using the same arguments as a previous axes currently reuses the earlier instance.  In a future version, a new instance will always be created and returned.  Meanwhile, this warning can be suppressed, and the future behavior ensured, by passing a unique label to each axes instance.\n"
     ]
    },
    {
     "data": {
      "image/png": "[encoded data removed]",
      "text/plain": [
       "<Figure size 432x288 with 1 Axes>"
      ]
     },
     "metadata": {
      "needs_background": "light"
     },
     "output_type": "display_data"
    },
    {
     "name": "stdout",
     "output_type": "stream",
     "text": [
      "mean velocity = 17.2546875 std 84.45540829911256 mm/s\n"
     ]
    }
   ],
   "source": [
    "im = Image.open(\"fFase3ch2.tif\")\n",
    "l,w=im.size\n",
    "pix_val = list(im.getdata())\n",
    "#pix_array is the image turned into an array of pixels\n",
    "pix_array = 255-np.array(list(im.getdata())).reshape((w,l)) #np.reshape(pix_array) \n",
    "#threshold values to \n",
    "'''\n",
    "trh=1\n",
    "pix_array[pix_array<=trh] = 1\n",
    "pix_array[pix_array>trh] = 0\n",
    "'''\n",
    "#see the array that you want to work and configure it\n",
    "work_array=pix_array[3:-15,3:-10]\n",
    "#count the 1s in the binary array in axis of choice\n",
    "ones=np.count_nonzero(work_array,1)\n",
    "#start the analysis\n",
    "py,px=work_array.shape\n",
    "size=45 #mm\n",
    "Dtime=120 #s\n",
    "pix_val= size/px\n",
    "x=ones*(size/px)\n",
    "velocity=np.empty(py)\n",
    "for z in range(py-1):\n",
    "    velocity[z]=(ones[z+1]-ones[z])*pix_val/Dtime\n",
    "mean_vel=np.mean(velocity)\n",
    "\n",
    "\n",
    "#Showing Data\n",
    "plt.imshow(work_array)\n",
    "plt.axes().set_aspect('auto')\n",
    "plt.xlabel('Pixel')\n",
    "plt.ylabel('Time')\n",
    "plt.suptitle('Show my working array')\n",
    "plt.show()\n",
    "print(\"mean velocity =\", mean_vel,\"std\",np.std(velocity) ,\"mm/s\")"
   ]
  },
  {
   "cell_type": "code",
   "execution_count": 54,
   "metadata": {},
   "outputs": [
    {
     "name": "stdout",
     "output_type": "stream",
     "text": [
      "(25,)\n"
     ]
    },
    {
     "data": {
      "image/png": "[encoded data removed]",
      "text/plain": [
       "<Figure size 432x288 with 1 Axes>"
      ]
     },
     "metadata": {
      "needs_background": "light"
     },
     "output_type": "display_data"
    }
   ],
   "source": [
    "edge_list = [np.where(np.diff(work_array[i,:]))[0][0] for i in range(work_array.shape[0])]\n",
    "edge_array2 = np.array(edge_list)\n",
    "plt.plot(edge_array2)\n",
    "last_pix = edge_array2.shape[0]\n",
    "print(edge_array2.shape)"
   ]
  },
  {
   "cell_type": "code",
   "execution_count": 55,
   "metadata": {},
   "outputs": [
    {
     "name": "stdout",
     "output_type": "stream",
     "text": [
      "pixels = 432 slope= 17.75923076923077 r2= 0.9995843772770142\n"
     ]
    }
   ],
   "source": [
    "slope, intercept, r_value, p_value, std_err = linregress(np.arange(last_pix), edge_array2)\n",
    "r2 = r_value**2\n",
    "print('pixels =',px, 'slope=',slope,'r2=',r2)"
   ]
  },
  {
   "cell_type": "code",
   "execution_count": 56,
   "metadata": {},
   "outputs": [
    {
     "name": "stdout",
     "output_type": "stream",
     "text": [
      "49.94783653846154 mm/s\n"
     ]
    },
    {
     "data": {
      "text/plain": [
       "0.015415998931623931"
      ]
     },
     "execution_count": 56,
     "metadata": {},
     "output_type": "execute_result"
    }
   ],
   "source": [
    "vel = slope/Dtime*pix_val\n",
    "#should give ~45\n",
    "print(slope/Dtime*pix_val*3240,'mm/s')\n",
    "vel"
   ]
  },
  {
   "cell_type": "code",
   "execution_count": 57,
   "metadata": {},
   "outputs": [],
   "source": [
    "#converting to mm and s\n",
    "posmm = list(edge_array2*pix_val)\n",
    "ts = list(np.arange(last_pix)*Dtime)\n",
    "#create dataframe\n",
    "df2 = pd.DataFrame({\"pix\": posmm,\n",
    "                   \"time\": ts,\n",
    "                   \"channel\": list(itertools.repeat(2, last_pix))\n",
    "\n",
    "})"
   ]
  },
  {
   "cell_type": "code",
   "execution_count": 58,
   "metadata": {
    "scrolled": true
   },
   "outputs": [
    {
     "data": {
      "text/html": [
       "<div>\n",
       "<style scoped>\n",
       "    .dataframe tbody tr th:only-of-type {\n",
       "        vertical-align: middle;\n",
       "    }\n",
       "\n",
       "    .dataframe tbody tr th {\n",
       "        vertical-align: top;\n",
       "    }\n",
       "\n",
       "    .dataframe thead th {\n",
       "        text-align: right;\n",
       "    }\n",
       "</style>\n",
       "<table border=\"1\" class=\"dataframe\">\n",
       "  <thead>\n",
       "    <tr style=\"text-align: right;\">\n",
       "      <th></th>\n",
       "      <th>pix</th>\n",
       "      <th>time</th>\n",
       "      <th>channel</th>\n",
       "    </tr>\n",
       "  </thead>\n",
       "  <tbody>\n",
       "    <tr>\n",
       "      <th>0</th>\n",
       "      <td>0.729167</td>\n",
       "      <td>0</td>\n",
       "      <td>2</td>\n",
       "    </tr>\n",
       "    <tr>\n",
       "      <th>1</th>\n",
       "      <td>2.395833</td>\n",
       "      <td>120</td>\n",
       "      <td>2</td>\n",
       "    </tr>\n",
       "    <tr>\n",
       "      <th>2</th>\n",
       "      <td>3.958333</td>\n",
       "      <td>240</td>\n",
       "      <td>2</td>\n",
       "    </tr>\n",
       "    <tr>\n",
       "      <th>3</th>\n",
       "      <td>5.729167</td>\n",
       "      <td>360</td>\n",
       "      <td>2</td>\n",
       "    </tr>\n",
       "    <tr>\n",
       "      <th>4</th>\n",
       "      <td>7.500000</td>\n",
       "      <td>480</td>\n",
       "      <td>2</td>\n",
       "    </tr>\n",
       "    <tr>\n",
       "      <th>5</th>\n",
       "      <td>9.375000</td>\n",
       "      <td>600</td>\n",
       "      <td>2</td>\n",
       "    </tr>\n",
       "    <tr>\n",
       "      <th>6</th>\n",
       "      <td>11.666667</td>\n",
       "      <td>720</td>\n",
       "      <td>2</td>\n",
       "    </tr>\n",
       "    <tr>\n",
       "      <th>7</th>\n",
       "      <td>13.229167</td>\n",
       "      <td>840</td>\n",
       "      <td>2</td>\n",
       "    </tr>\n",
       "    <tr>\n",
       "      <th>8</th>\n",
       "      <td>15.104167</td>\n",
       "      <td>960</td>\n",
       "      <td>2</td>\n",
       "    </tr>\n",
       "    <tr>\n",
       "      <th>9</th>\n",
       "      <td>17.187500</td>\n",
       "      <td>1080</td>\n",
       "      <td>2</td>\n",
       "    </tr>\n",
       "    <tr>\n",
       "      <th>10</th>\n",
       "      <td>18.958333</td>\n",
       "      <td>1200</td>\n",
       "      <td>2</td>\n",
       "    </tr>\n",
       "    <tr>\n",
       "      <th>11</th>\n",
       "      <td>20.729167</td>\n",
       "      <td>1320</td>\n",
       "      <td>2</td>\n",
       "    </tr>\n",
       "    <tr>\n",
       "      <th>12</th>\n",
       "      <td>22.395833</td>\n",
       "      <td>1440</td>\n",
       "      <td>2</td>\n",
       "    </tr>\n",
       "    <tr>\n",
       "      <th>13</th>\n",
       "      <td>24.479167</td>\n",
       "      <td>1560</td>\n",
       "      <td>2</td>\n",
       "    </tr>\n",
       "    <tr>\n",
       "      <th>14</th>\n",
       "      <td>26.458333</td>\n",
       "      <td>1680</td>\n",
       "      <td>2</td>\n",
       "    </tr>\n",
       "    <tr>\n",
       "      <th>15</th>\n",
       "      <td>28.437500</td>\n",
       "      <td>1800</td>\n",
       "      <td>2</td>\n",
       "    </tr>\n",
       "    <tr>\n",
       "      <th>16</th>\n",
       "      <td>30.208333</td>\n",
       "      <td>1920</td>\n",
       "      <td>2</td>\n",
       "    </tr>\n",
       "    <tr>\n",
       "      <th>17</th>\n",
       "      <td>31.770833</td>\n",
       "      <td>2040</td>\n",
       "      <td>2</td>\n",
       "    </tr>\n",
       "    <tr>\n",
       "      <th>18</th>\n",
       "      <td>33.333333</td>\n",
       "      <td>2160</td>\n",
       "      <td>2</td>\n",
       "    </tr>\n",
       "    <tr>\n",
       "      <th>19</th>\n",
       "      <td>35.937500</td>\n",
       "      <td>2280</td>\n",
       "      <td>2</td>\n",
       "    </tr>\n",
       "    <tr>\n",
       "      <th>20</th>\n",
       "      <td>37.916667</td>\n",
       "      <td>2400</td>\n",
       "      <td>2</td>\n",
       "    </tr>\n",
       "    <tr>\n",
       "      <th>21</th>\n",
       "      <td>39.479167</td>\n",
       "      <td>2520</td>\n",
       "      <td>2</td>\n",
       "    </tr>\n",
       "    <tr>\n",
       "      <th>22</th>\n",
       "      <td>40.937500</td>\n",
       "      <td>2640</td>\n",
       "      <td>2</td>\n",
       "    </tr>\n",
       "    <tr>\n",
       "      <th>23</th>\n",
       "      <td>42.187500</td>\n",
       "      <td>2760</td>\n",
       "      <td>2</td>\n",
       "    </tr>\n",
       "    <tr>\n",
       "      <th>24</th>\n",
       "      <td>44.791667</td>\n",
       "      <td>2880</td>\n",
       "      <td>2</td>\n",
       "    </tr>\n",
       "  </tbody>\n",
       "</table>\n",
       "</div>"
      ],
      "text/plain": [
       "          pix  time  channel\n",
       "0    0.729167     0        2\n",
       "1    2.395833   120        2\n",
       "2    3.958333   240        2\n",
       "3    5.729167   360        2\n",
       "4    7.500000   480        2\n",
       "5    9.375000   600        2\n",
       "6   11.666667   720        2\n",
       "7   13.229167   840        2\n",
       "8   15.104167   960        2\n",
       "9   17.187500  1080        2\n",
       "10  18.958333  1200        2\n",
       "11  20.729167  1320        2\n",
       "12  22.395833  1440        2\n",
       "13  24.479167  1560        2\n",
       "14  26.458333  1680        2\n",
       "15  28.437500  1800        2\n",
       "16  30.208333  1920        2\n",
       "17  31.770833  2040        2\n",
       "18  33.333333  2160        2\n",
       "19  35.937500  2280        2\n",
       "20  37.916667  2400        2\n",
       "21  39.479167  2520        2\n",
       "22  40.937500  2640        2\n",
       "23  42.187500  2760        2\n",
       "24  44.791667  2880        2"
      ]
     },
     "execution_count": 58,
     "metadata": {},
     "output_type": "execute_result"
    }
   ],
   "source": [
    "df2"
   ]
  },
  {
   "cell_type": "code",
   "execution_count": 59,
   "metadata": {},
   "outputs": [
    {
     "name": "stderr",
     "output_type": "stream",
     "text": [
      "//anaconda3/lib/python3.7/site-packages/ipykernel_launcher.py:29: MatplotlibDeprecationWarning: Adding an axes using the same arguments as a previous axes currently reuses the earlier instance.  In a future version, a new instance will always be created and returned.  Meanwhile, this warning can be suppressed, and the future behavior ensured, by passing a unique label to each axes instance.\n"
     ]
    },
    {
     "data": {
      "image/png": "[encoded data removed]",
      "text/plain": [
       "<Figure size 432x288 with 1 Axes>"
      ]
     },
     "metadata": {
      "needs_background": "light"
     },
     "output_type": "display_data"
    },
    {
     "name": "stdout",
     "output_type": "stream",
     "text": [
      "mean velocity = 16.398539968096422 std 81.92029208499632 mm/s\n"
     ]
    }
   ],
   "source": [
    "im = Image.open(\"fFase3ch3.tif\")\n",
    "l,w=im.size\n",
    "pix_val = list(im.getdata())\n",
    "#pix_array is the image turned into an array of pixels\n",
    "pix_array = 255-np.array(list(im.getdata())).reshape((w,l)) #np.reshape(pix_array) \n",
    "#threshold values to \n",
    "'''\n",
    "trh=1\n",
    "pix_array[pix_array<=trh] = 1\n",
    "pix_array[pix_array>trh] = 0\n",
    "'''\n",
    "#see the array that you want to work and configure it\n",
    "work_array=pix_array[4:-13,:-12]\n",
    "#count the 1s in the binary array in axis of choice\n",
    "ones=np.count_nonzero(work_array,1)\n",
    "#start the analysis\n",
    "py,px=work_array.shape\n",
    "size=45 #mm\n",
    "Dtime=120 #s\n",
    "pix_val= size/px\n",
    "x=ones*(size/px)\n",
    "velocity=np.empty(py)\n",
    "for z in range(py-1):\n",
    "    velocity[z]=(ones[z+1]-ones[z])*pix_val/Dtime\n",
    "mean_vel=np.mean(velocity)\n",
    "\n",
    "#Showing Data\n",
    "plt.imshow(work_array)\n",
    "plt.axes().set_aspect('auto')\n",
    "plt.xlabel('Pixel')\n",
    "plt.ylabel('Time')\n",
    "plt.suptitle('Show my working array')\n",
    "plt.show()\n",
    "print(\"mean velocity =\", mean_vel,\"std\",np.std(velocity) ,\"mm/s\")"
   ]
  },
  {
   "cell_type": "code",
   "execution_count": 60,
   "metadata": {},
   "outputs": [
    {
     "name": "stdout",
     "output_type": "stream",
     "text": [
      "(26,) 26\n"
     ]
    },
    {
     "data": {
      "image/png": "[encoded data removed]",
      "text/plain": [
       "<Figure size 432x288 with 1 Axes>"
      ]
     },
     "metadata": {
      "needs_background": "light"
     },
     "output_type": "display_data"
    }
   ],
   "source": [
    "edge_list = [np.where(np.diff(work_array[i,:]))[0][0] for i in range(work_array.shape[0])]\n",
    "edge_array3 = np.array(edge_list)\n",
    "plt.plot(edge_array3)\n",
    "last_pix = edge_array3.shape[0]\n",
    "print(edge_array3.shape, last_pix)"
   ]
  },
  {
   "cell_type": "code",
   "execution_count": 61,
   "metadata": {},
   "outputs": [
    {
     "name": "stdout",
     "output_type": "stream",
     "text": [
      "pixels = 434 slope= 16.380854700854705 r2= 0.9935780881574053\n"
     ]
    }
   ],
   "source": [
    "slope, intercept, r_value, p_value, std_err = linregress(np.arange(last_pix), edge_array3)\n",
    "r2 = r_value**2\n",
    "print('pixels =',px, 'slope=',slope,'r2=',r2)"
   ]
  },
  {
   "cell_type": "code",
   "execution_count": 62,
   "metadata": {},
   "outputs": [
    {
     "name": "stdout",
     "output_type": "stream",
     "text": [
      "45.85884438142504 mm/s\n"
     ]
    },
    {
     "data": {
      "text/plain": [
       "0.014153964315254642"
      ]
     },
     "execution_count": 62,
     "metadata": {},
     "output_type": "execute_result"
    }
   ],
   "source": [
    "vel = slope/Dtime*pix_val\n",
    "#should give ~45\n",
    "print(slope/Dtime*pix_val*3240,'mm/s')\n",
    "vel"
   ]
  },
  {
   "cell_type": "code",
   "execution_count": 63,
   "metadata": {},
   "outputs": [],
   "source": [
    "#converting to mm and s\n",
    "posmm = list(edge_array3*pix_val)\n",
    "ts = list(np.arange(last_pix)*Dtime)\n",
    "#create dataframe\n",
    "df3 = pd.DataFrame({\"pix\": posmm,\n",
    "                   \"time\": ts,\n",
    "                   \"channel\": list(itertools.repeat(3, last_pix))\n",
    "\n",
    "})"
   ]
  },
  {
   "cell_type": "code",
   "execution_count": 64,
   "metadata": {},
   "outputs": [
    {
     "data": {
      "text/html": [
       "<div>\n",
       "<style scoped>\n",
       "    .dataframe tbody tr th:only-of-type {\n",
       "        vertical-align: middle;\n",
       "    }\n",
       "\n",
       "    .dataframe tbody tr th {\n",
       "        vertical-align: top;\n",
       "    }\n",
       "\n",
       "    .dataframe thead th {\n",
       "        text-align: right;\n",
       "    }\n",
       "</style>\n",
       "<table border=\"1\" class=\"dataframe\">\n",
       "  <thead>\n",
       "    <tr style=\"text-align: right;\">\n",
       "      <th></th>\n",
       "      <th>pix</th>\n",
       "      <th>time</th>\n",
       "      <th>channel</th>\n",
       "    </tr>\n",
       "  </thead>\n",
       "  <tbody>\n",
       "    <tr>\n",
       "      <th>0</th>\n",
       "      <td>0.622120</td>\n",
       "      <td>0</td>\n",
       "      <td>3</td>\n",
       "    </tr>\n",
       "    <tr>\n",
       "      <th>1</th>\n",
       "      <td>1.970046</td>\n",
       "      <td>120</td>\n",
       "      <td>3</td>\n",
       "    </tr>\n",
       "    <tr>\n",
       "      <th>2</th>\n",
       "      <td>3.940092</td>\n",
       "      <td>240</td>\n",
       "      <td>3</td>\n",
       "    </tr>\n",
       "    <tr>\n",
       "      <th>3</th>\n",
       "      <td>7.361751</td>\n",
       "      <td>360</td>\n",
       "      <td>3</td>\n",
       "    </tr>\n",
       "    <tr>\n",
       "      <th>4</th>\n",
       "      <td>9.850230</td>\n",
       "      <td>480</td>\n",
       "      <td>3</td>\n",
       "    </tr>\n",
       "    <tr>\n",
       "      <th>5</th>\n",
       "      <td>12.131336</td>\n",
       "      <td>600</td>\n",
       "      <td>3</td>\n",
       "    </tr>\n",
       "    <tr>\n",
       "      <th>6</th>\n",
       "      <td>13.686636</td>\n",
       "      <td>720</td>\n",
       "      <td>3</td>\n",
       "    </tr>\n",
       "    <tr>\n",
       "      <th>7</th>\n",
       "      <td>15.449309</td>\n",
       "      <td>840</td>\n",
       "      <td>3</td>\n",
       "    </tr>\n",
       "    <tr>\n",
       "      <th>8</th>\n",
       "      <td>17.108295</td>\n",
       "      <td>960</td>\n",
       "      <td>3</td>\n",
       "    </tr>\n",
       "    <tr>\n",
       "      <th>9</th>\n",
       "      <td>18.974654</td>\n",
       "      <td>1080</td>\n",
       "      <td>3</td>\n",
       "    </tr>\n",
       "    <tr>\n",
       "      <th>10</th>\n",
       "      <td>20.633641</td>\n",
       "      <td>1200</td>\n",
       "      <td>3</td>\n",
       "    </tr>\n",
       "    <tr>\n",
       "      <th>11</th>\n",
       "      <td>22.292627</td>\n",
       "      <td>1320</td>\n",
       "      <td>3</td>\n",
       "    </tr>\n",
       "    <tr>\n",
       "      <th>12</th>\n",
       "      <td>23.951613</td>\n",
       "      <td>1440</td>\n",
       "      <td>3</td>\n",
       "    </tr>\n",
       "    <tr>\n",
       "      <th>13</th>\n",
       "      <td>25.610599</td>\n",
       "      <td>1560</td>\n",
       "      <td>3</td>\n",
       "    </tr>\n",
       "    <tr>\n",
       "      <th>14</th>\n",
       "      <td>27.373272</td>\n",
       "      <td>1680</td>\n",
       "      <td>3</td>\n",
       "    </tr>\n",
       "    <tr>\n",
       "      <th>15</th>\n",
       "      <td>28.824885</td>\n",
       "      <td>1800</td>\n",
       "      <td>3</td>\n",
       "    </tr>\n",
       "    <tr>\n",
       "      <th>16</th>\n",
       "      <td>29.965438</td>\n",
       "      <td>1920</td>\n",
       "      <td>3</td>\n",
       "    </tr>\n",
       "    <tr>\n",
       "      <th>17</th>\n",
       "      <td>31.417051</td>\n",
       "      <td>2040</td>\n",
       "      <td>3</td>\n",
       "    </tr>\n",
       "    <tr>\n",
       "      <th>18</th>\n",
       "      <td>32.868664</td>\n",
       "      <td>2160</td>\n",
       "      <td>3</td>\n",
       "    </tr>\n",
       "    <tr>\n",
       "      <th>19</th>\n",
       "      <td>34.423963</td>\n",
       "      <td>2280</td>\n",
       "      <td>3</td>\n",
       "    </tr>\n",
       "    <tr>\n",
       "      <th>20</th>\n",
       "      <td>35.979263</td>\n",
       "      <td>2400</td>\n",
       "      <td>3</td>\n",
       "    </tr>\n",
       "    <tr>\n",
       "      <th>21</th>\n",
       "      <td>37.741935</td>\n",
       "      <td>2520</td>\n",
       "      <td>3</td>\n",
       "    </tr>\n",
       "    <tr>\n",
       "      <th>22</th>\n",
       "      <td>39.400922</td>\n",
       "      <td>2640</td>\n",
       "      <td>3</td>\n",
       "    </tr>\n",
       "    <tr>\n",
       "      <th>23</th>\n",
       "      <td>41.163594</td>\n",
       "      <td>2760</td>\n",
       "      <td>3</td>\n",
       "    </tr>\n",
       "    <tr>\n",
       "      <th>24</th>\n",
       "      <td>42.615207</td>\n",
       "      <td>2880</td>\n",
       "      <td>3</td>\n",
       "    </tr>\n",
       "    <tr>\n",
       "      <th>25</th>\n",
       "      <td>44.066820</td>\n",
       "      <td>3000</td>\n",
       "      <td>3</td>\n",
       "    </tr>\n",
       "  </tbody>\n",
       "</table>\n",
       "</div>"
      ],
      "text/plain": [
       "          pix  time  channel\n",
       "0    0.622120     0        3\n",
       "1    1.970046   120        3\n",
       "2    3.940092   240        3\n",
       "3    7.361751   360        3\n",
       "4    9.850230   480        3\n",
       "5   12.131336   600        3\n",
       "6   13.686636   720        3\n",
       "7   15.449309   840        3\n",
       "8   17.108295   960        3\n",
       "9   18.974654  1080        3\n",
       "10  20.633641  1200        3\n",
       "11  22.292627  1320        3\n",
       "12  23.951613  1440        3\n",
       "13  25.610599  1560        3\n",
       "14  27.373272  1680        3\n",
       "15  28.824885  1800        3\n",
       "16  29.965438  1920        3\n",
       "17  31.417051  2040        3\n",
       "18  32.868664  2160        3\n",
       "19  34.423963  2280        3\n",
       "20  35.979263  2400        3\n",
       "21  37.741935  2520        3\n",
       "22  39.400922  2640        3\n",
       "23  41.163594  2760        3\n",
       "24  42.615207  2880        3\n",
       "25  44.066820  3000        3"
      ]
     },
     "execution_count": 64,
     "metadata": {},
     "output_type": "execute_result"
    }
   ],
   "source": [
    "df3"
   ]
  },
  {
   "cell_type": "code",
   "execution_count": 65,
   "metadata": {},
   "outputs": [
    {
     "name": "stderr",
     "output_type": "stream",
     "text": [
      "//anaconda3/lib/python3.7/site-packages/ipykernel_launcher.py:29: MatplotlibDeprecationWarning: Adding an axes using the same arguments as a previous axes currently reuses the earlier instance.  In a future version, a new instance will always be created and returned.  Meanwhile, this warning can be suppressed, and the future behavior ensured, by passing a unique label to each axes instance.\n"
     ]
    },
    {
     "data": {
      "image/png": "[encoded data removed]",
      "text/plain": [
       "<Figure size 432x288 with 1 Axes>"
      ]
     },
     "metadata": {
      "needs_background": "light"
     },
     "output_type": "display_data"
    },
    {
     "name": "stdout",
     "output_type": "stream",
     "text": [
      "mean velocity = 16.73413990825688 std 81.90805087803064 mm/s\n"
     ]
    }
   ],
   "source": [
    "im = Image.open(\"fFase3ch4.tif\")\n",
    "l,w=im.size\n",
    "pix_val = list(im.getdata())\n",
    "#pix_array is the image turned into an array of pixels\n",
    "pix_array = 255-np.array(list(im.getdata())).reshape((w,l)) #np.reshape(pix_array) \n",
    "#threshold values to \n",
    "'''\n",
    "trh=1\n",
    "pix_array[pix_array<=trh] = 1\n",
    "pix_array[pix_array>trh] = 0\n",
    "'''\n",
    "#see the array that you want to work and configure it\n",
    "work_array=pix_array[9:-9,:-8]\n",
    "#count the 1s in the binary array in axis of choice\n",
    "ones=np.count_nonzero(work_array,1)\n",
    "#start the analysis\n",
    "py,px=work_array.shape\n",
    "size=45 #mm\n",
    "Dtime=120 #s\n",
    "pix_val= size/px\n",
    "x=ones*(size/px)\n",
    "velocity=np.empty(py)\n",
    "for z in range(py-1):\n",
    "    velocity[z]=(ones[z+1]-ones[z])*pix_val/Dtime\n",
    "mean_vel=np.mean(velocity)\n",
    "\n",
    "#Showing Data\n",
    "plt.imshow(work_array)\n",
    "plt.axes().set_aspect('auto')\n",
    "plt.xlabel('Pixel')\n",
    "plt.ylabel('Time')\n",
    "plt.suptitle('Show my working array')\n",
    "plt.show()\n",
    "print(\"mean velocity =\", mean_vel,\"std\",np.std(velocity) ,\"mm/s\")"
   ]
  },
  {
   "cell_type": "code",
   "execution_count": 66,
   "metadata": {},
   "outputs": [
    {
     "name": "stdout",
     "output_type": "stream",
     "text": [
      "(25,) 25\n"
     ]
    },
    {
     "data": {
      "image/png": "[encoded data removed]",
      "text/plain": [
       "<Figure size 432x288 with 1 Axes>"
      ]
     },
     "metadata": {
      "needs_background": "light"
     },
     "output_type": "display_data"
    }
   ],
   "source": [
    "edge_list = [np.where(np.diff(work_array[i,:]))[0][0] for i in range(work_array.shape[0])]\n",
    "edge_array4 = np.array(edge_list)\n",
    "plt.plot(edge_array4)\n",
    "last_pix = edge_array4.shape[0]\n",
    "print(edge_array4.shape, last_pix)"
   ]
  },
  {
   "cell_type": "code",
   "execution_count": 67,
   "metadata": {
    "scrolled": true
   },
   "outputs": [
    {
     "name": "stdout",
     "output_type": "stream",
     "text": [
      "pixels = 436 slope= 16.790769230769232 r2= 0.9866037031471024\n"
     ]
    }
   ],
   "source": [
    "slope, intercept, r_value, p_value, std_err = linregress(np.arange(25), edge_array4)\n",
    "r2 = r_value**2\n",
    "print('pixels =',px, 'slope=',slope,'r2=',r2)"
   ]
  },
  {
   "cell_type": "code",
   "execution_count": 68,
   "metadata": {},
   "outputs": [
    {
     "name": "stdout",
     "output_type": "stream",
     "text": [
      "46.790790402258295 mm/s\n"
     ]
    },
    {
     "data": {
      "text/plain": [
       "0.014441601976005646"
      ]
     },
     "execution_count": 68,
     "metadata": {},
     "output_type": "execute_result"
    }
   ],
   "source": [
    "vel = slope/Dtime*pix_val\n",
    "#should give ~45\n",
    "print(slope/Dtime*pix_val*3240,'mm/s')\n",
    "vel"
   ]
  },
  {
   "cell_type": "code",
   "execution_count": 70,
   "metadata": {},
   "outputs": [],
   "source": [
    "#converting to mm and s\n",
    "posmm = list(edge_array4*pix_val)\n",
    "ts = list(np.arange(last_pix)*Dtime)\n",
    "#create dataframe\n",
    "df4 = pd.DataFrame({\"pix\": posmm,\n",
    "                   \"time\": ts,\n",
    "                   \"channel\": list(itertools.repeat(4, last_pix))\n",
    "\n",
    "})"
   ]
  },
  {
   "cell_type": "code",
   "execution_count": 71,
   "metadata": {
    "scrolled": true
   },
   "outputs": [
    {
     "data": {
      "text/html": [
       "<div>\n",
       "<style scoped>\n",
       "    .dataframe tbody tr th:only-of-type {\n",
       "        vertical-align: middle;\n",
       "    }\n",
       "\n",
       "    .dataframe tbody tr th {\n",
       "        vertical-align: top;\n",
       "    }\n",
       "\n",
       "    .dataframe thead th {\n",
       "        text-align: right;\n",
       "    }\n",
       "</style>\n",
       "<table border=\"1\" class=\"dataframe\">\n",
       "  <thead>\n",
       "    <tr style=\"text-align: right;\">\n",
       "      <th></th>\n",
       "      <th>pix</th>\n",
       "      <th>time</th>\n",
       "      <th>channel</th>\n",
       "    </tr>\n",
       "  </thead>\n",
       "  <tbody>\n",
       "    <tr>\n",
       "      <th>0</th>\n",
       "      <td>0.619266</td>\n",
       "      <td>0</td>\n",
       "      <td>4</td>\n",
       "    </tr>\n",
       "    <tr>\n",
       "      <th>1</th>\n",
       "      <td>1.135321</td>\n",
       "      <td>120</td>\n",
       "      <td>4</td>\n",
       "    </tr>\n",
       "    <tr>\n",
       "      <th>2</th>\n",
       "      <td>3.509174</td>\n",
       "      <td>240</td>\n",
       "      <td>4</td>\n",
       "    </tr>\n",
       "    <tr>\n",
       "      <th>3</th>\n",
       "      <td>5.470183</td>\n",
       "      <td>360</td>\n",
       "      <td>4</td>\n",
       "    </tr>\n",
       "    <tr>\n",
       "      <th>4</th>\n",
       "      <td>9.908257</td>\n",
       "      <td>480</td>\n",
       "      <td>4</td>\n",
       "    </tr>\n",
       "    <tr>\n",
       "      <th>5</th>\n",
       "      <td>12.385321</td>\n",
       "      <td>600</td>\n",
       "      <td>4</td>\n",
       "    </tr>\n",
       "    <tr>\n",
       "      <th>6</th>\n",
       "      <td>14.346330</td>\n",
       "      <td>720</td>\n",
       "      <td>4</td>\n",
       "    </tr>\n",
       "    <tr>\n",
       "      <th>7</th>\n",
       "      <td>15.688073</td>\n",
       "      <td>840</td>\n",
       "      <td>4</td>\n",
       "    </tr>\n",
       "    <tr>\n",
       "      <th>8</th>\n",
       "      <td>17.029817</td>\n",
       "      <td>960</td>\n",
       "      <td>4</td>\n",
       "    </tr>\n",
       "    <tr>\n",
       "      <th>9</th>\n",
       "      <td>19.300459</td>\n",
       "      <td>1080</td>\n",
       "      <td>4</td>\n",
       "    </tr>\n",
       "    <tr>\n",
       "      <th>10</th>\n",
       "      <td>21.158257</td>\n",
       "      <td>1200</td>\n",
       "      <td>4</td>\n",
       "    </tr>\n",
       "    <tr>\n",
       "      <th>11</th>\n",
       "      <td>22.500000</td>\n",
       "      <td>1320</td>\n",
       "      <td>4</td>\n",
       "    </tr>\n",
       "    <tr>\n",
       "      <th>12</th>\n",
       "      <td>24.461009</td>\n",
       "      <td>1440</td>\n",
       "      <td>4</td>\n",
       "    </tr>\n",
       "    <tr>\n",
       "      <th>13</th>\n",
       "      <td>27.041284</td>\n",
       "      <td>1560</td>\n",
       "      <td>4</td>\n",
       "    </tr>\n",
       "    <tr>\n",
       "      <th>14</th>\n",
       "      <td>28.383028</td>\n",
       "      <td>1680</td>\n",
       "      <td>4</td>\n",
       "    </tr>\n",
       "    <tr>\n",
       "      <th>15</th>\n",
       "      <td>29.518349</td>\n",
       "      <td>1800</td>\n",
       "      <td>4</td>\n",
       "    </tr>\n",
       "    <tr>\n",
       "      <th>16</th>\n",
       "      <td>30.653670</td>\n",
       "      <td>1920</td>\n",
       "      <td>4</td>\n",
       "    </tr>\n",
       "    <tr>\n",
       "      <th>17</th>\n",
       "      <td>31.892202</td>\n",
       "      <td>2040</td>\n",
       "      <td>4</td>\n",
       "    </tr>\n",
       "    <tr>\n",
       "      <th>18</th>\n",
       "      <td>33.646789</td>\n",
       "      <td>2160</td>\n",
       "      <td>4</td>\n",
       "    </tr>\n",
       "    <tr>\n",
       "      <th>19</th>\n",
       "      <td>34.988532</td>\n",
       "      <td>2280</td>\n",
       "      <td>4</td>\n",
       "    </tr>\n",
       "    <tr>\n",
       "      <th>20</th>\n",
       "      <td>36.227064</td>\n",
       "      <td>2400</td>\n",
       "      <td>4</td>\n",
       "    </tr>\n",
       "    <tr>\n",
       "      <th>21</th>\n",
       "      <td>37.465596</td>\n",
       "      <td>2520</td>\n",
       "      <td>4</td>\n",
       "    </tr>\n",
       "    <tr>\n",
       "      <th>22</th>\n",
       "      <td>39.013761</td>\n",
       "      <td>2640</td>\n",
       "      <td>4</td>\n",
       "    </tr>\n",
       "    <tr>\n",
       "      <th>23</th>\n",
       "      <td>40.665138</td>\n",
       "      <td>2760</td>\n",
       "      <td>4</td>\n",
       "    </tr>\n",
       "    <tr>\n",
       "      <th>24</th>\n",
       "      <td>42.729358</td>\n",
       "      <td>2880</td>\n",
       "      <td>4</td>\n",
       "    </tr>\n",
       "  </tbody>\n",
       "</table>\n",
       "</div>"
      ],
      "text/plain": [
       "          pix  time  channel\n",
       "0    0.619266     0        4\n",
       "1    1.135321   120        4\n",
       "2    3.509174   240        4\n",
       "3    5.470183   360        4\n",
       "4    9.908257   480        4\n",
       "5   12.385321   600        4\n",
       "6   14.346330   720        4\n",
       "7   15.688073   840        4\n",
       "8   17.029817   960        4\n",
       "9   19.300459  1080        4\n",
       "10  21.158257  1200        4\n",
       "11  22.500000  1320        4\n",
       "12  24.461009  1440        4\n",
       "13  27.041284  1560        4\n",
       "14  28.383028  1680        4\n",
       "15  29.518349  1800        4\n",
       "16  30.653670  1920        4\n",
       "17  31.892202  2040        4\n",
       "18  33.646789  2160        4\n",
       "19  34.988532  2280        4\n",
       "20  36.227064  2400        4\n",
       "21  37.465596  2520        4\n",
       "22  39.013761  2640        4\n",
       "23  40.665138  2760        4\n",
       "24  42.729358  2880        4"
      ]
     },
     "execution_count": 71,
     "metadata": {},
     "output_type": "execute_result"
    }
   ],
   "source": [
    "df4"
   ]
  },
  {
   "cell_type": "code",
   "execution_count": 72,
   "metadata": {
    "scrolled": true
   },
   "outputs": [],
   "source": [
    "fdf = df1.append([df2,df3,df4], ignore_index = True)"
   ]
  },
  {
   "cell_type": "code",
   "execution_count": null,
   "metadata": {},
   "outputs": [],
   "source": []
  },
  {
   "cell_type": "code",
   "execution_count": 75,
   "metadata": {},
   "outputs": [
    {
     "data": {
      "text/plain": [
       "<seaborn.axisgrid.FacetGrid at 0x1a20e16c18>"
      ]
     },
     "execution_count": 75,
     "metadata": {},
     "output_type": "execute_result"
    },
    {
     "data": {
      "image/png": "[encoded data removed]",
      "text/plain": [
       "<Figure size 407.75x360 with 1 Axes>"
      ]
     },
     "metadata": {
      "needs_background": "light"
     },
     "output_type": "display_data"
    }
   ],
   "source": [
    "g = sns.lmplot(x=\"time\", y=\"pix\", hue=\"channel\",\n",
    "               truncate=True, height=5, data=fdf)\n",
    "g.set_axis_labels(\"Time(s)\", \"Position(mm)\")"
   ]
  },
  {
   "cell_type": "code",
   "execution_count": 84,
   "metadata": {},
   "outputs": [
    {
     "name": "stdout",
     "output_type": "stream",
     "text": [
      "[0.9984353758458961, 0.9995843772770142, 0.9935780881574053, 0.9866037031471024] [0.013709430087740353, 0.015415998931623931, 0.014153964315254642, 0.014441601976005646]\n"
     ]
    }
   ],
   "source": [
    "all_r2 = list([0.9984353758458961,0.9995843772770142,0.9935780881574053,0.9866037031471024])\n",
    "all_vel = list([0.013709430087740353,0.015415998931623931,0.014153964315254642,0.014441601976005646])\n",
    "print(all_r2,all_vel)"
   ]
  },
  {
   "cell_type": "code",
   "execution_count": 82,
   "metadata": {},
   "outputs": [
    {
     "data": {
      "text/plain": [
       "{'whiskers': [<matplotlib.lines.Line2D at 0x1a21a78c18>,\n",
       "  <matplotlib.lines.Line2D at 0x1a21a785f8>],\n",
       " 'caps': [<matplotlib.lines.Line2D at 0x1a21a784e0>,\n",
       "  <matplotlib.lines.Line2D at 0x1a20ab9ac8>],\n",
       " 'boxes': [<matplotlib.lines.Line2D at 0x1a21a78240>],\n",
       " 'medians': [<matplotlib.lines.Line2D at 0x1a20ab9a90>],\n",
       " 'fliers': [<matplotlib.lines.Line2D at 0x1a20ab94e0>],\n",
       " 'means': []}"
      ]
     },
     "execution_count": 82,
     "metadata": {},
     "output_type": "execute_result"
    },
    {
     "data": {
      "image/png": "[encoded data removed]",
      "text/plain": [
       "<Figure size 432x288 with 1 Axes>"
      ]
     },
     "metadata": {
      "needs_background": "light"
     },
     "output_type": "display_data"
    }
   ],
   "source": [
    "fig1, ax1 = plt.subplots()\n",
    "ax1.set_title('r2 Device 3')\n",
    "ax1.boxplot(all_r2)"
   ]
  },
  {
   "cell_type": "code",
   "execution_count": 86,
   "metadata": {},
   "outputs": [
    {
     "data": {
      "text/plain": [
       "{'whiskers': [<matplotlib.lines.Line2D at 0x1a20c6d860>,\n",
       "  <matplotlib.lines.Line2D at 0x1a20c6d390>],\n",
       " 'caps': [<matplotlib.lines.Line2D at 0x1a20c6d2e8>,\n",
       "  <matplotlib.lines.Line2D at 0x1a20c6db00>],\n",
       " 'boxes': [<matplotlib.lines.Line2D at 0x1a20c6dd68>],\n",
       " 'medians': [<matplotlib.lines.Line2D at 0x1a20d77978>],\n",
       " 'fliers': [<matplotlib.lines.Line2D at 0x10d608080>],\n",
       " 'means': []}"
      ]
     },
     "execution_count": 86,
     "metadata": {},
     "output_type": "execute_result"
    },
    {
     "data": {
      "image/png": "[encoded data removed]",
      "text/plain": [
       "<Figure size 432x288 with 1 Axes>"
      ]
     },
     "metadata": {
      "needs_background": "light"
     },
     "output_type": "display_data"
    }
   ],
   "source": [
    "fig1, ax1 = plt.subplots()\n",
    "ax1.set_title('Velocities (mm/s) in Device 3')\n",
    "ax1.boxplot(all_vel)"
   ]
  },
  {
   "cell_type": "code",
   "execution_count": null,
   "metadata": {},
   "outputs": [],
   "source": []
  }
 ],
 "metadata": {
  "kernelspec": {
   "display_name": "Python 3",
   "language": "python",
   "name": "python3"
  },
  "language_info": {
   "codemirror_mode": {
    "name": "ipython",
    "version": 3
   },
   "file_extension": ".py",
   "mimetype": "text/x-python",
   "name": "python",
   "nbconvert_exporter": "python",
   "pygments_lexer": "ipython3",
   "version": "3.7.4"
  }
 },
 "nbformat": 4,
 "nbformat_minor": 2
}
